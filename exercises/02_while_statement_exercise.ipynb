{
  "cells": [
    {
      "cell_type": "markdown",
      "metadata": {
        "colab_type": "text",
        "id": "view-in-github"
      },
      "source": [
        "<a href=\"https://colab.research.google.com/github/aleylani/Python-AI24/blob/main/exercises/02_while_statement_exercise.ipynb\" target=\"_parent\"><img src=\"https://colab.research.google.com/assets/colab-badge.svg\" alt=\"Open In Colab\"/></a>"
      ]
    },
    {
      "cell_type": "markdown",
      "metadata": {
        "id": "Po7swMETQNgZ"
      },
      "source": [
        "## 1. Count numbers (*)\n",
        "\n",
        "Use a **while** statement to count from -10 to 10 with one increment.\n",
        "\n",
        "<details>\n",
        "\n",
        "<summary>Hint </summary>\n",
        "\n",
        "```python\n",
        "\n",
        "i += 1 # adds one and assigns it to i, equivalent to i = i + 1\n",
        "```\n",
        "\n",
        "</details>\n",
        "<br>\n",
        "<details>\n",
        "\n",
        "<summary>Answer </summary>\n",
        "\n",
        "```\n",
        "\n",
        "-10 -9 -8 -7 -6 -5 -4 -3 -2 -1 0 1 2 3 4 5 6 7 8 9 10\n",
        "```\n",
        "\n",
        "</details>\n"
      ]
    },
    {
      "cell_type": "code",
      "execution_count": null,
      "metadata": {},
      "outputs": [],
      "source": [
        "i = -10\n",
        "while i != 11:\n",
        "    print(i)\n",
        "    i += 1\n"
      ]
    },
    {
      "cell_type": "markdown",
      "metadata": {
        "id": "bt8iHnYRQNga"
      },
      "source": [
        "---\n",
        "## 2. Arithmetic sum (*)\n",
        "Use a **while** statement to compute the following sums:\n",
        "\n",
        "&nbsp; a) &nbsp; $\\text{sum} = 1 + 2 + \\ldots + 99+ 100$\n",
        "\n",
        "&nbsp; b) &nbsp; $\\text{sum} = 1 + 3 + 5 + \\ldots + 97 + 99$\n",
        "\n",
        "<details>\n",
        "\n",
        "<summary>Answer </summary>\n",
        "\n",
        "```\n",
        "a) 1 + 2 + ... + 99 + 100 = 5050\n",
        "\n",
        "b) 1 + 3 + 5 +...+ 97 + 99 = 2500\n",
        "```\n",
        "\n",
        "</details>"
      ]
    },
    {
      "cell_type": "code",
      "execution_count": null,
      "metadata": {},
      "outputs": [],
      "source": [
        "# a)\n",
        "sum = 0\n",
        "i = 0\n",
        "while i < 100:\n",
        "    i += 1\n",
        "    sum += i\n",
        "print(sum)"
      ]
    },
    {
      "cell_type": "markdown",
      "metadata": {
        "id": "NxECsk35QNgb"
      },
      "source": [
        "---\n",
        "## 3. Guess number game (*)\n",
        "&nbsp; a) &nbsp; Create a guessing number game following this flow chart:\n",
        "\n",
        "<img align=\"left\" src=\"../assets/guessing_game.png\" width=\"300\"/>"
      ]
    },
    {
      "cell_type": "markdown",
      "metadata": {
        "id": "ZKtnK2rOQNgc"
      },
      "source": [
        "&nbsp; b) &nbsp; Make an algorithm to automatically guess the correct number. Can you optimize to get as few guesses as possible? (**)\n",
        "\n",
        "<details>\n",
        "\n",
        "<summary>Hint </summary>\n",
        "\n",
        "&nbsp; b) &nbsp; Half your testing number each time\n",
        "\n",
        "</details>"
      ]
    },
    {
      "cell_type": "code",
      "execution_count": null,
      "metadata": {},
      "outputs": [
        {
          "name": "stdout",
          "output_type": "stream",
          "text": [
            "48 randint\n",
            "0 attempts\n",
            "0\n",
            "2 rand_max\n",
            "1 rand_min\n",
            "Try again, you have made 1 attempts\n",
            "The number is between 47 and 50.\n",
            "48 was correct. Congrats you won the game!\n",
            "won\n"
          ]
        },
        {
          "data": {
            "text/plain": [
              "'won'"
            ]
          },
          "execution_count": 1,
          "metadata": {},
          "output_type": "execute_result"
        },
        {
          "ename": "",
          "evalue": "",
          "output_type": "error",
          "traceback": [
            "\u001b[1;31mThe Kernel crashed while executing code in the current cell or a previous cell. \n",
            "\u001b[1;31mPlease review the code in the cell(s) to identify a possible cause of the failure. \n",
            "\u001b[1;31mClick <a href='https://aka.ms/vscodeJupyterKernelCrash'>here</a> for more info. \n",
            "\u001b[1;31mView Jupyter <a href='command:jupyter.viewOutput'>log</a> for further details."
          ]
        }
      ],
      "source": [
        "import random\n",
        "\n",
        "def random_game():\n",
        "    rand_int = random.randint(1, 100)\n",
        "    attempts = 0\n",
        "    user_guess = 0\n",
        "    rand_min = random.randint(1,20)\n",
        "    rand_max = random.randint(1,20)\n",
        "\n",
        "    print(rand_int, 'randint')\n",
        "    print(attempts, 'attempts')\n",
        "    print(user_guess)\n",
        "    print(rand_max, 'rand_max')\n",
        "    print(rand_min, 'rand_min')\n",
        "\n",
        "    while user_guess != rand_int:\n",
        "        attempts += 1 \n",
        "        user_guess = int(input('Make a guess: '))\n",
        "        # print(type(user_guess))\n",
        "        # user_guess = int(user_guess)\n",
        "        # print(type(user_guess))\n",
        "        if user_guess == rand_int:\n",
        "            print(f'{rand_int} was correct. Congrats you won the game!')\n",
        "            exit()  \n",
        "        else:\n",
        "            min = round(rand_int - rand_min)\n",
        "            max = round(rand_int + rand_max)\n",
        "            if min < 0:\n",
        "                min = 0\n",
        "            if max > 100:\n",
        "                max = 100\n",
        "            print(f'Try again, you have made {attempts} attempts\\n'\n",
        "                f'The number is between {min} and {max}.')\n",
        "    \n",
        "    print('won')\n",
        "    return True\n",
        "            \n",
        "def random_game_solver():\n",
        "    pass"
      ]
    },
    {
      "cell_type": "markdown",
      "metadata": {
        "id": "D3P-6PvDQNgc"
      },
      "source": [
        "---\n",
        "## 4. Multiplication game (*)\n",
        "&nbsp; a) &nbsp; Create a multiplication game following this flow chart:\n",
        "\n",
        "<img align=\"left\" src=\"../assets/Multiplication_game.png\" width=\"300\"/>"
      ]
    },
    {
      "cell_type": "markdown",
      "metadata": {
        "id": "ScWfGvWxQNgc"
      },
      "source": [
        "&nbsp; b) &nbsp; Add a menu for choosing difficulty level of the game\n",
        "\n",
        "&nbsp; c) &nbsp; Feel free to extend this program with features of your choice."
      ]
    },
    {
      "cell_type": "markdown",
      "metadata": {
        "id": "pnm3fwjJQNgd"
      },
      "source": [
        "---\n",
        "## 5. Check convergence (**)\n",
        "Use a while statement to compute the following sums:\n",
        "\n",
        "&nbsp; a) &nbsp; $\\text{sum} = 1 + \\frac{1}{2} + \\frac{1}{4} + \\frac{1}{8} + \\dots + \\frac{1}{2^n}$\n",
        "\n",
        "&nbsp; b) &nbsp; $\\text{sum} = 1 - \\frac{1}{3} + \\frac{1}{5} - \\frac{1}{7} + \\dots + \\frac{(-1)^n}{2n+1}$\n",
        "\n",
        "Try different values on $n$ to see which value it converges to.\n",
        "\n",
        "<details>\n",
        "\n",
        "<summary>Answer </summary>\n",
        "\n",
        "&nbsp; a) &nbsp; $1 + \\frac{1}{2} + \\frac{1}{4} + \\frac{1}{8} + \\dots + \\frac{1}{2^n} \\xrightarrow[n\\rightarrow \\infty]{} 2$\n",
        "\n",
        "&nbsp; b) &nbsp; $ 1 - \\frac{1}{3} + \\frac{1}{5} - \\frac{1}{7} + \\dots + \\frac{(-1)^n}{2n+1} \\xrightarrow[n\\rightarrow \\infty]{} \\frac{\\pi}{4}$\n",
        "\n",
        "</details>"
      ]
    },
    {
      "cell_type": "code",
      "execution_count": 28,
      "metadata": {},
      "outputs": [
        {
          "name": "stdout",
          "output_type": "stream",
          "text": [
            "1.998046875\n",
            "0.7828982258896384\n"
          ]
        }
      ],
      "source": [
        "# a)\n",
        "n = 0\n",
        "sum = 0\n",
        "while n < 10:\n",
        "    factor = 1/(2**n)\n",
        "    sum += factor\n",
        "    n += 1\n",
        "\n",
        "print(sum)\n",
        "\n",
        "# b)\n",
        "n = 0\n",
        "sum = 0 \n",
        "while n < 100:\n",
        "    res = ((-1)**n) / (2*n+1)\n",
        "    sum += res\n",
        "    n += 1\n",
        "print(sum)\n",
        "    \n",
        "    "
      ]
    }
  ],
  "metadata": {
    "colab": {
      "include_colab_link": true,
      "provenance": []
    },
    "kernelspec": {
      "display_name": "programming",
      "language": "python",
      "name": "python3"
    },
    "language_info": {
      "codemirror_mode": {
        "name": "ipython",
        "version": 3
      },
      "file_extension": ".py",
      "mimetype": "text/x-python",
      "name": "python",
      "nbconvert_exporter": "python",
      "pygments_lexer": "ipython3",
      "version": "3.13.5"
    }
  },
  "nbformat": 4,
  "nbformat_minor": 0
}
